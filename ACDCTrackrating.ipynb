{
 "cells": [
  {
   "cell_type": "markdown",
   "metadata": {},
   "source": [
    "## This project is to look at album data for AC/DC and show what albums are most popular and the ones that are least popular\n",
    "### this data is from https://www.kaggle.com/datasets/thebumpkin/168-acdc-album-tracks-with-spotify-data"
   ]
  },
  {
   "cell_type": "code",
   "execution_count": 1,
   "metadata": {},
   "outputs": [],
   "source": [
    "import pandas as pd\n",
    "import matplotlib.pyplot as plt\n",
    "import zipfile"
   ]
  },
  {
   "cell_type": "markdown",
   "metadata": {},
   "source": [
    "# Loading CSV Dataset"
   ]
  },
  {
   "cell_type": "code",
   "execution_count": 2,
   "metadata": {},
   "outputs": [],
   "source": [
    "with zipfile.ZipFile('archive.zip') as z:\n",
    "    with z.open('ACDCAlbumTracks.csv') as f:\n",
    "        df = pd.read_csv(f) \n",
    "        "
   ]
  },
  {
   "cell_type": "markdown",
   "metadata": {},
   "source": [
    "#  Show top five songs in set"
   ]
  },
  {
   "cell_type": "code",
   "execution_count": 10,
   "metadata": {},
   "outputs": [
    {
     "data": {
      "text/html": [
       "<div>\n",
       "<style scoped>\n",
       "    .dataframe tbody tr th:only-of-type {\n",
       "        vertical-align: middle;\n",
       "    }\n",
       "\n",
       "    .dataframe tbody tr th {\n",
       "        vertical-align: top;\n",
       "    }\n",
       "\n",
       "    .dataframe thead th {\n",
       "        text-align: right;\n",
       "    }\n",
       "</style>\n",
       "<table border=\"1\" class=\"dataframe\">\n",
       "  <thead>\n",
       "    <tr style=\"text-align: right;\">\n",
       "      <th></th>\n",
       "      <th>Track</th>\n",
       "      <th>Album</th>\n",
       "      <th>Year</th>\n",
       "      <th>Duration</th>\n",
       "      <th>Popularity</th>\n",
       "      <th>Decade</th>\n",
       "    </tr>\n",
       "  </thead>\n",
       "  <tbody>\n",
       "    <tr>\n",
       "      <th>0</th>\n",
       "      <td>Can I Sit Next to You Girl</td>\n",
       "      <td>High Voltage</td>\n",
       "      <td>1975</td>\n",
       "      <td>251373</td>\n",
       "      <td>51</td>\n",
       "      <td>1970</td>\n",
       "    </tr>\n",
       "    <tr>\n",
       "      <th>1</th>\n",
       "      <td>High Voltage</td>\n",
       "      <td>High Voltage</td>\n",
       "      <td>1975</td>\n",
       "      <td>254200</td>\n",
       "      <td>58</td>\n",
       "      <td>1970</td>\n",
       "    </tr>\n",
       "    <tr>\n",
       "      <th>2</th>\n",
       "      <td>It's a Long Way to the Top (If You Wanna Rock ...</td>\n",
       "      <td>High Voltage</td>\n",
       "      <td>1975</td>\n",
       "      <td>301227</td>\n",
       "      <td>72</td>\n",
       "      <td>1970</td>\n",
       "    </tr>\n",
       "    <tr>\n",
       "      <th>3</th>\n",
       "      <td>Little Lover</td>\n",
       "      <td>High Voltage</td>\n",
       "      <td>1975</td>\n",
       "      <td>338307</td>\n",
       "      <td>43</td>\n",
       "      <td>1970</td>\n",
       "    </tr>\n",
       "    <tr>\n",
       "      <th>4</th>\n",
       "      <td>Live Wire</td>\n",
       "      <td>High Voltage</td>\n",
       "      <td>1975</td>\n",
       "      <td>348600</td>\n",
       "      <td>54</td>\n",
       "      <td>1970</td>\n",
       "    </tr>\n",
       "  </tbody>\n",
       "</table>\n",
       "</div>"
      ],
      "text/plain": [
       "                                               Track         Album  Year  \\\n",
       "0                         Can I Sit Next to You Girl  High Voltage  1975   \n",
       "1                                       High Voltage  High Voltage  1975   \n",
       "2  It's a Long Way to the Top (If You Wanna Rock ...  High Voltage  1975   \n",
       "3                                       Little Lover  High Voltage  1975   \n",
       "4                                          Live Wire  High Voltage  1975   \n",
       "\n",
       "   Duration  Popularity  Decade  \n",
       "0    251373          51    1970  \n",
       "1    254200          58    1970  \n",
       "2    301227          72    1970  \n",
       "3    338307          43    1970  \n",
       "4    348600          54    1970  "
      ]
     },
     "execution_count": 10,
     "metadata": {},
     "output_type": "execute_result"
    }
   ],
   "source": [
    "\n",
    "\n",
    "df.head()  # View the first few rows\n"
   ]
  },
  {
   "cell_type": "markdown",
   "metadata": {},
   "source": [
    "# Columns"
   ]
  },
  {
   "cell_type": "code",
   "execution_count": 4,
   "metadata": {},
   "outputs": [
    {
     "name": "stdout",
     "output_type": "stream",
     "text": [
      "<class 'pandas.core.frame.DataFrame'>\n",
      "RangeIndex: 168 entries, 0 to 167\n",
      "Data columns (total 17 columns):\n",
      " #   Column            Non-Null Count  Dtype  \n",
      "---  ------            --------------  -----  \n",
      " 0   Track             168 non-null    object \n",
      " 1   Album             168 non-null    object \n",
      " 2   Year              168 non-null    int64  \n",
      " 3   Duration          168 non-null    int64  \n",
      " 4   Time_Signature    168 non-null    int64  \n",
      " 5   Danceability      168 non-null    float64\n",
      " 6   Energy            168 non-null    float64\n",
      " 7   Key               168 non-null    int64  \n",
      " 8   Loudness          168 non-null    float64\n",
      " 9   Mode              168 non-null    int64  \n",
      " 10  Speechiness       168 non-null    float64\n",
      " 11  Acousticness      168 non-null    float64\n",
      " 12  Instrumentalness  168 non-null    float64\n",
      " 13  Liveness          168 non-null    float64\n",
      " 14  Valence           168 non-null    float64\n",
      " 15  Tempo             168 non-null    float64\n",
      " 16  Popularity        168 non-null    int64  \n",
      "dtypes: float64(9), int64(6), object(2)\n",
      "memory usage: 22.4+ KB\n"
     ]
    }
   ],
   "source": [
    "df.info()"
   ]
  },
  {
   "cell_type": "markdown",
   "metadata": {},
   "source": [
    "# show statistical summaries"
   ]
  },
  {
   "cell_type": "code",
   "execution_count": 5,
   "metadata": {},
   "outputs": [
    {
     "data": {
      "text/html": [
       "<div>\n",
       "<style scoped>\n",
       "    .dataframe tbody tr th:only-of-type {\n",
       "        vertical-align: middle;\n",
       "    }\n",
       "\n",
       "    .dataframe tbody tr th {\n",
       "        vertical-align: top;\n",
       "    }\n",
       "\n",
       "    .dataframe thead th {\n",
       "        text-align: right;\n",
       "    }\n",
       "</style>\n",
       "<table border=\"1\" class=\"dataframe\">\n",
       "  <thead>\n",
       "    <tr style=\"text-align: right;\">\n",
       "      <th></th>\n",
       "      <th>Year</th>\n",
       "      <th>Duration</th>\n",
       "      <th>Time_Signature</th>\n",
       "      <th>Danceability</th>\n",
       "      <th>Energy</th>\n",
       "      <th>Key</th>\n",
       "      <th>Loudness</th>\n",
       "      <th>Mode</th>\n",
       "      <th>Speechiness</th>\n",
       "      <th>Acousticness</th>\n",
       "      <th>Instrumentalness</th>\n",
       "      <th>Liveness</th>\n",
       "      <th>Valence</th>\n",
       "      <th>Tempo</th>\n",
       "      <th>Popularity</th>\n",
       "    </tr>\n",
       "  </thead>\n",
       "  <tbody>\n",
       "    <tr>\n",
       "      <th>count</th>\n",
       "      <td>168.000000</td>\n",
       "      <td>168.000000</td>\n",
       "      <td>168.000000</td>\n",
       "      <td>168.000000</td>\n",
       "      <td>168.000000</td>\n",
       "      <td>168.000000</td>\n",
       "      <td>168.000000</td>\n",
       "      <td>168.000000</td>\n",
       "      <td>168.000000</td>\n",
       "      <td>168.000000</td>\n",
       "      <td>168.000000</td>\n",
       "      <td>168.000000</td>\n",
       "      <td>168.000000</td>\n",
       "      <td>168.000000</td>\n",
       "      <td>168.000000</td>\n",
       "    </tr>\n",
       "    <tr>\n",
       "      <th>mean</th>\n",
       "      <td>1990.928571</td>\n",
       "      <td>244648.988095</td>\n",
       "      <td>3.988095</td>\n",
       "      <td>0.498661</td>\n",
       "      <td>0.818161</td>\n",
       "      <td>5.916667</td>\n",
       "      <td>-4.696768</td>\n",
       "      <td>0.886905</td>\n",
       "      <td>0.057826</td>\n",
       "      <td>0.027387</td>\n",
       "      <td>0.153815</td>\n",
       "      <td>0.185105</td>\n",
       "      <td>0.539056</td>\n",
       "      <td>124.283476</td>\n",
       "      <td>46.077381</td>\n",
       "    </tr>\n",
       "    <tr>\n",
       "      <th>std</th>\n",
       "      <td>14.176632</td>\n",
       "      <td>49588.757337</td>\n",
       "      <td>0.154303</td>\n",
       "      <td>0.106125</td>\n",
       "      <td>0.120796</td>\n",
       "      <td>3.533275</td>\n",
       "      <td>0.975133</td>\n",
       "      <td>0.317656</td>\n",
       "      <td>0.037610</td>\n",
       "      <td>0.067775</td>\n",
       "      <td>0.245223</td>\n",
       "      <td>0.149406</td>\n",
       "      <td>0.178470</td>\n",
       "      <td>25.332091</td>\n",
       "      <td>12.313761</td>\n",
       "    </tr>\n",
       "    <tr>\n",
       "      <th>min</th>\n",
       "      <td>1975.000000</td>\n",
       "      <td>154507.000000</td>\n",
       "      <td>3.000000</td>\n",
       "      <td>0.179000</td>\n",
       "      <td>0.388000</td>\n",
       "      <td>0.000000</td>\n",
       "      <td>-9.511000</td>\n",
       "      <td>0.000000</td>\n",
       "      <td>0.024600</td>\n",
       "      <td>0.000002</td>\n",
       "      <td>0.000000</td>\n",
       "      <td>0.035900</td>\n",
       "      <td>0.078400</td>\n",
       "      <td>79.351000</td>\n",
       "      <td>29.000000</td>\n",
       "    </tr>\n",
       "    <tr>\n",
       "      <th>25%</th>\n",
       "      <td>1979.000000</td>\n",
       "      <td>210193.250000</td>\n",
       "      <td>4.000000</td>\n",
       "      <td>0.442750</td>\n",
       "      <td>0.740750</td>\n",
       "      <td>2.000000</td>\n",
       "      <td>-5.265250</td>\n",
       "      <td>1.000000</td>\n",
       "      <td>0.034600</td>\n",
       "      <td>0.000236</td>\n",
       "      <td>0.001567</td>\n",
       "      <td>0.084275</td>\n",
       "      <td>0.415750</td>\n",
       "      <td>106.754000</td>\n",
       "      <td>37.000000</td>\n",
       "    </tr>\n",
       "    <tr>\n",
       "      <th>50%</th>\n",
       "      <td>1985.000000</td>\n",
       "      <td>236793.500000</td>\n",
       "      <td>4.000000</td>\n",
       "      <td>0.501500</td>\n",
       "      <td>0.843000</td>\n",
       "      <td>7.000000</td>\n",
       "      <td>-4.560500</td>\n",
       "      <td>1.000000</td>\n",
       "      <td>0.046250</td>\n",
       "      <td>0.001990</td>\n",
       "      <td>0.016400</td>\n",
       "      <td>0.133000</td>\n",
       "      <td>0.537500</td>\n",
       "      <td>122.033500</td>\n",
       "      <td>42.000000</td>\n",
       "    </tr>\n",
       "    <tr>\n",
       "      <th>75%</th>\n",
       "      <td>2000.000000</td>\n",
       "      <td>267213.250000</td>\n",
       "      <td>4.000000</td>\n",
       "      <td>0.570500</td>\n",
       "      <td>0.906000</td>\n",
       "      <td>9.000000</td>\n",
       "      <td>-4.050750</td>\n",
       "      <td>1.000000</td>\n",
       "      <td>0.063250</td>\n",
       "      <td>0.019550</td>\n",
       "      <td>0.195500</td>\n",
       "      <td>0.233250</td>\n",
       "      <td>0.669000</td>\n",
       "      <td>133.867250</td>\n",
       "      <td>53.000000</td>\n",
       "    </tr>\n",
       "    <tr>\n",
       "      <th>max</th>\n",
       "      <td>2020.000000</td>\n",
       "      <td>414027.000000</td>\n",
       "      <td>5.000000</td>\n",
       "      <td>0.754000</td>\n",
       "      <td>0.995000</td>\n",
       "      <td>11.000000</td>\n",
       "      <td>-2.356000</td>\n",
       "      <td>1.000000</td>\n",
       "      <td>0.302000</td>\n",
       "      <td>0.514000</td>\n",
       "      <td>0.889000</td>\n",
       "      <td>0.884000</td>\n",
       "      <td>0.931000</td>\n",
       "      <td>202.798000</td>\n",
       "      <td>86.000000</td>\n",
       "    </tr>\n",
       "  </tbody>\n",
       "</table>\n",
       "</div>"
      ],
      "text/plain": [
       "              Year       Duration  Time_Signature  Danceability      Energy  \\\n",
       "count   168.000000     168.000000      168.000000    168.000000  168.000000   \n",
       "mean   1990.928571  244648.988095        3.988095      0.498661    0.818161   \n",
       "std      14.176632   49588.757337        0.154303      0.106125    0.120796   \n",
       "min    1975.000000  154507.000000        3.000000      0.179000    0.388000   \n",
       "25%    1979.000000  210193.250000        4.000000      0.442750    0.740750   \n",
       "50%    1985.000000  236793.500000        4.000000      0.501500    0.843000   \n",
       "75%    2000.000000  267213.250000        4.000000      0.570500    0.906000   \n",
       "max    2020.000000  414027.000000        5.000000      0.754000    0.995000   \n",
       "\n",
       "              Key    Loudness        Mode  Speechiness  Acousticness  \\\n",
       "count  168.000000  168.000000  168.000000   168.000000    168.000000   \n",
       "mean     5.916667   -4.696768    0.886905     0.057826      0.027387   \n",
       "std      3.533275    0.975133    0.317656     0.037610      0.067775   \n",
       "min      0.000000   -9.511000    0.000000     0.024600      0.000002   \n",
       "25%      2.000000   -5.265250    1.000000     0.034600      0.000236   \n",
       "50%      7.000000   -4.560500    1.000000     0.046250      0.001990   \n",
       "75%      9.000000   -4.050750    1.000000     0.063250      0.019550   \n",
       "max     11.000000   -2.356000    1.000000     0.302000      0.514000   \n",
       "\n",
       "       Instrumentalness    Liveness     Valence       Tempo  Popularity  \n",
       "count        168.000000  168.000000  168.000000  168.000000  168.000000  \n",
       "mean           0.153815    0.185105    0.539056  124.283476   46.077381  \n",
       "std            0.245223    0.149406    0.178470   25.332091   12.313761  \n",
       "min            0.000000    0.035900    0.078400   79.351000   29.000000  \n",
       "25%            0.001567    0.084275    0.415750  106.754000   37.000000  \n",
       "50%            0.016400    0.133000    0.537500  122.033500   42.000000  \n",
       "75%            0.195500    0.233250    0.669000  133.867250   53.000000  \n",
       "max            0.889000    0.884000    0.931000  202.798000   86.000000  "
      ]
     },
     "execution_count": 5,
     "metadata": {},
     "output_type": "execute_result"
    }
   ],
   "source": [
    "df.describe()  # Get statistical summaries"
   ]
  },
  {
   "cell_type": "markdown",
   "metadata": {},
   "source": [
    "## Drop unwanted data\n",
    "## all but 4 columns ince thois were the main ones needed for analysis"
   ]
  },
  {
   "cell_type": "code",
   "execution_count": 6,
   "metadata": {},
   "outputs": [],
   "source": [
    "df.drop(['Time_Signature', 'Danceability', 'Energy', 'Key', 'Loudness', 'Mode', 'Speechiness',  'Acousticness',  'Instrumentalness', 'Liveness', 'Valence', 'Tempo'], axis=1, inplace=True)        \n",
    "\n"
   ]
  },
  {
   "cell_type": "markdown",
   "metadata": {},
   "source": [
    "# show cleaned data\n",
    "### showing the remaining columns after dropping unwanted data.\n",
    "### there was nothing to clean from cells."
   ]
  },
  {
   "cell_type": "code",
   "execution_count": 7,
   "metadata": {},
   "outputs": [
    {
     "name": "stdout",
     "output_type": "stream",
     "text": [
      "<class 'pandas.core.frame.DataFrame'>\n",
      "RangeIndex: 168 entries, 0 to 167\n",
      "Data columns (total 5 columns):\n",
      " #   Column      Non-Null Count  Dtype \n",
      "---  ------      --------------  ----- \n",
      " 0   Track       168 non-null    object\n",
      " 1   Album       168 non-null    object\n",
      " 2   Year        168 non-null    int64 \n",
      " 3   Duration    168 non-null    int64 \n",
      " 4   Popularity  168 non-null    int64 \n",
      "dtypes: int64(3), object(2)\n",
      "memory usage: 6.7+ KB\n"
     ]
    }
   ],
   "source": [
    "df.info()"
   ]
  },
  {
   "cell_type": "markdown",
   "metadata": {},
   "source": [
    "# add new coumn called decade\n",
    "###  This new column coulds be used to show what years were the best"
   ]
  },
  {
   "cell_type": "code",
   "execution_count": 8,
   "metadata": {},
   "outputs": [
    {
     "name": "stdout",
     "output_type": "stream",
     "text": [
      "                                                 Track         Album  Year  \\\n",
      "0                           Can I Sit Next to You Girl  High Voltage  1975   \n",
      "1                                         High Voltage  High Voltage  1975   \n",
      "2    It's a Long Way to the Top (If You Wanna Rock ...  High Voltage  1975   \n",
      "3                                         Little Lover  High Voltage  1975   \n",
      "4                                            Live Wire  High Voltage  1975   \n",
      "..                                                 ...           ...   ...   \n",
      "163                                   Shot In The Dark      POWER UP  2020   \n",
      "164                                       Systems Down      POWER UP  2020   \n",
      "165                          Through The Mists Of Time      POWER UP  2020   \n",
      "166                                    Wild Reputation      POWER UP  2020   \n",
      "167                                      Witch's Spell      POWER UP  2020   \n",
      "\n",
      "     Duration  Popularity  Decade  \n",
      "0      251373          51    1970  \n",
      "1      254200          58    1970  \n",
      "2      301227          72    1970  \n",
      "3      338307          43    1970  \n",
      "4      348600          54    1970  \n",
      "..        ...         ...     ...  \n",
      "163    185133          63    2020  \n",
      "164    192640          43    2020  \n",
      "165    212227          52    2020  \n",
      "166    174400          46    2020  \n",
      "167    222253          52    2020  \n",
      "\n",
      "[168 rows x 6 columns]\n"
     ]
    }
   ],
   "source": [
    "df['Decade'] = (df['Year'] // 10) * 10\n",
    "\n",
    "print(df)"
   ]
  },
  {
   "cell_type": "code",
   "execution_count": 9,
   "metadata": {},
   "outputs": [
    {
     "name": "stdout",
     "output_type": "stream",
     "text": [
      "<class 'pandas.core.frame.DataFrame'>\n",
      "RangeIndex: 168 entries, 0 to 167\n",
      "Data columns (total 6 columns):\n",
      " #   Column      Non-Null Count  Dtype \n",
      "---  ------      --------------  ----- \n",
      " 0   Track       168 non-null    object\n",
      " 1   Album       168 non-null    object\n",
      " 2   Year        168 non-null    int64 \n",
      " 3   Duration    168 non-null    int64 \n",
      " 4   Popularity  168 non-null    int64 \n",
      " 5   Decade      168 non-null    int64 \n",
      "dtypes: int64(4), object(2)\n",
      "memory usage: 8.0+ KB\n"
     ]
    }
   ],
   "source": [
    "df.info()"
   ]
  },
  {
   "cell_type": "markdown",
   "metadata": {},
   "source": [
    "# Chart by popularity"
   ]
  },
  {
   "cell_type": "code",
   "execution_count": 15,
   "metadata": {},
   "outputs": [
    {
     "ename": "ValueError",
     "evalue": "too many values to unpack (expected 2)",
     "output_type": "error",
     "traceback": [
      "\u001b[1;31m---------------------------------------------------------------------------\u001b[0m",
      "\u001b[1;31mValueError\u001b[0m                                Traceback (most recent call last)",
      "Cell \u001b[1;32mIn[15], line 6\u001b[0m\n\u001b[0;32m      4\u001b[0m \u001b[38;5;66;03m# Create a horizontal bar chart\u001b[39;00m\n\u001b[0;32m      5\u001b[0m plt\u001b[38;5;241m.\u001b[39mfigure(figsize\u001b[38;5;241m=\u001b[39m(\u001b[38;5;241m10\u001b[39m, \u001b[38;5;241m6\u001b[39m))\n\u001b[1;32m----> 6\u001b[0m \u001b[43mplt\u001b[49m\u001b[38;5;241;43m.\u001b[39;49m\u001b[43mbroken_barh\u001b[49m\u001b[43m(\u001b[49m\u001b[43malbum_popularity\u001b[49m\u001b[38;5;241;43m.\u001b[39;49m\u001b[43mindex\u001b[49m\u001b[43m,\u001b[49m\u001b[43m \u001b[49m\u001b[43malbum_popularity\u001b[49m\u001b[38;5;241;43m.\u001b[39;49m\u001b[43mvalues\u001b[49m\u001b[43m,\u001b[49m\u001b[43m \u001b[49m\u001b[43mcolor\u001b[49m\u001b[38;5;241;43m=\u001b[39;49m\u001b[38;5;124;43m'\u001b[39;49m\u001b[38;5;124;43myellow\u001b[39;49m\u001b[38;5;124;43m'\u001b[39;49m\u001b[43m)\u001b[49m\n\u001b[0;32m      8\u001b[0m \u001b[38;5;66;03m# Set chart title and labels\u001b[39;00m\n\u001b[0;32m      9\u001b[0m plt\u001b[38;5;241m.\u001b[39mtitle(\u001b[38;5;124m'\u001b[39m\u001b[38;5;124mPopularity of AC/DC Albums\u001b[39m\u001b[38;5;124m'\u001b[39m)\n",
      "File \u001b[1;32mc:\\Users\\wipa1\\AppData\\Local\\Programs\\Python\\Python312\\Lib\\site-packages\\matplotlib\\pyplot.py:3093\u001b[0m, in \u001b[0;36mbroken_barh\u001b[1;34m(xranges, yrange, data, **kwargs)\u001b[0m\n\u001b[0;32m   3085\u001b[0m \u001b[38;5;129m@_copy_docstring_and_deprecators\u001b[39m(Axes\u001b[38;5;241m.\u001b[39mbroken_barh)\n\u001b[0;32m   3086\u001b[0m \u001b[38;5;28;01mdef\u001b[39;00m \u001b[38;5;21mbroken_barh\u001b[39m(\n\u001b[0;32m   3087\u001b[0m     xranges: Sequence[\u001b[38;5;28mtuple\u001b[39m[\u001b[38;5;28mfloat\u001b[39m, \u001b[38;5;28mfloat\u001b[39m]],\n\u001b[1;32m   (...)\u001b[0m\n\u001b[0;32m   3091\u001b[0m     \u001b[38;5;241m*\u001b[39m\u001b[38;5;241m*\u001b[39mkwargs,\n\u001b[0;32m   3092\u001b[0m ) \u001b[38;5;241m-\u001b[39m\u001b[38;5;241m>\u001b[39m PolyCollection:\n\u001b[1;32m-> 3093\u001b[0m     \u001b[38;5;28;01mreturn\u001b[39;00m \u001b[43mgca\u001b[49m\u001b[43m(\u001b[49m\u001b[43m)\u001b[49m\u001b[38;5;241;43m.\u001b[39;49m\u001b[43mbroken_barh\u001b[49m\u001b[43m(\u001b[49m\n\u001b[0;32m   3094\u001b[0m \u001b[43m        \u001b[49m\u001b[43mxranges\u001b[49m\u001b[43m,\u001b[49m\u001b[43m \u001b[49m\u001b[43myrange\u001b[49m\u001b[43m,\u001b[49m\u001b[43m \u001b[49m\u001b[38;5;241;43m*\u001b[39;49m\u001b[38;5;241;43m*\u001b[39;49m\u001b[43m(\u001b[49m\u001b[43m{\u001b[49m\u001b[38;5;124;43m\"\u001b[39;49m\u001b[38;5;124;43mdata\u001b[39;49m\u001b[38;5;124;43m\"\u001b[39;49m\u001b[43m:\u001b[49m\u001b[43m \u001b[49m\u001b[43mdata\u001b[49m\u001b[43m}\u001b[49m\u001b[43m \u001b[49m\u001b[38;5;28;43;01mif\u001b[39;49;00m\u001b[43m \u001b[49m\u001b[43mdata\u001b[49m\u001b[43m \u001b[49m\u001b[38;5;129;43;01mis\u001b[39;49;00m\u001b[43m \u001b[49m\u001b[38;5;129;43;01mnot\u001b[39;49;00m\u001b[43m \u001b[49m\u001b[38;5;28;43;01mNone\u001b[39;49;00m\u001b[43m \u001b[49m\u001b[38;5;28;43;01melse\u001b[39;49;00m\u001b[43m \u001b[49m\u001b[43m{\u001b[49m\u001b[43m}\u001b[49m\u001b[43m)\u001b[49m\u001b[43m,\u001b[49m\u001b[43m \u001b[49m\u001b[38;5;241;43m*\u001b[39;49m\u001b[38;5;241;43m*\u001b[39;49m\u001b[43mkwargs\u001b[49m\n\u001b[0;32m   3095\u001b[0m \u001b[43m    \u001b[49m\u001b[43m)\u001b[49m\n",
      "File \u001b[1;32mc:\\Users\\wipa1\\AppData\\Local\\Programs\\Python\\Python312\\Lib\\site-packages\\matplotlib\\__init__.py:1473\u001b[0m, in \u001b[0;36m_preprocess_data.<locals>.inner\u001b[1;34m(ax, data, *args, **kwargs)\u001b[0m\n\u001b[0;32m   1470\u001b[0m \u001b[38;5;129m@functools\u001b[39m\u001b[38;5;241m.\u001b[39mwraps(func)\n\u001b[0;32m   1471\u001b[0m \u001b[38;5;28;01mdef\u001b[39;00m \u001b[38;5;21minner\u001b[39m(ax, \u001b[38;5;241m*\u001b[39margs, data\u001b[38;5;241m=\u001b[39m\u001b[38;5;28;01mNone\u001b[39;00m, \u001b[38;5;241m*\u001b[39m\u001b[38;5;241m*\u001b[39mkwargs):\n\u001b[0;32m   1472\u001b[0m     \u001b[38;5;28;01mif\u001b[39;00m data \u001b[38;5;129;01mis\u001b[39;00m \u001b[38;5;28;01mNone\u001b[39;00m:\n\u001b[1;32m-> 1473\u001b[0m         \u001b[38;5;28;01mreturn\u001b[39;00m \u001b[43mfunc\u001b[49m\u001b[43m(\u001b[49m\n\u001b[0;32m   1474\u001b[0m \u001b[43m            \u001b[49m\u001b[43max\u001b[49m\u001b[43m,\u001b[49m\n\u001b[0;32m   1475\u001b[0m \u001b[43m            \u001b[49m\u001b[38;5;241;43m*\u001b[39;49m\u001b[38;5;28;43mmap\u001b[39;49m\u001b[43m(\u001b[49m\u001b[43msanitize_sequence\u001b[49m\u001b[43m,\u001b[49m\u001b[43m \u001b[49m\u001b[43margs\u001b[49m\u001b[43m)\u001b[49m\u001b[43m,\u001b[49m\n\u001b[0;32m   1476\u001b[0m \u001b[43m            \u001b[49m\u001b[38;5;241;43m*\u001b[39;49m\u001b[38;5;241;43m*\u001b[39;49m\u001b[43m{\u001b[49m\u001b[43mk\u001b[49m\u001b[43m:\u001b[49m\u001b[43m \u001b[49m\u001b[43msanitize_sequence\u001b[49m\u001b[43m(\u001b[49m\u001b[43mv\u001b[49m\u001b[43m)\u001b[49m\u001b[43m \u001b[49m\u001b[38;5;28;43;01mfor\u001b[39;49;00m\u001b[43m \u001b[49m\u001b[43mk\u001b[49m\u001b[43m,\u001b[49m\u001b[43m \u001b[49m\u001b[43mv\u001b[49m\u001b[43m \u001b[49m\u001b[38;5;129;43;01min\u001b[39;49;00m\u001b[43m \u001b[49m\u001b[43mkwargs\u001b[49m\u001b[38;5;241;43m.\u001b[39;49m\u001b[43mitems\u001b[49m\u001b[43m(\u001b[49m\u001b[43m)\u001b[49m\u001b[43m}\u001b[49m\u001b[43m)\u001b[49m\n\u001b[0;32m   1478\u001b[0m     bound \u001b[38;5;241m=\u001b[39m new_sig\u001b[38;5;241m.\u001b[39mbind(ax, \u001b[38;5;241m*\u001b[39margs, \u001b[38;5;241m*\u001b[39m\u001b[38;5;241m*\u001b[39mkwargs)\n\u001b[0;32m   1479\u001b[0m     auto_label \u001b[38;5;241m=\u001b[39m (bound\u001b[38;5;241m.\u001b[39marguments\u001b[38;5;241m.\u001b[39mget(label_namer)\n\u001b[0;32m   1480\u001b[0m                   \u001b[38;5;129;01mor\u001b[39;00m bound\u001b[38;5;241m.\u001b[39mkwargs\u001b[38;5;241m.\u001b[39mget(label_namer))\n",
      "File \u001b[1;32mc:\\Users\\wipa1\\AppData\\Local\\Programs\\Python\\Python312\\Lib\\site-packages\\matplotlib\\axes\\_axes.py:2981\u001b[0m, in \u001b[0;36mAxes.broken_barh\u001b[1;34m(self, xranges, yrange, **kwargs)\u001b[0m\n\u001b[0;32m   2977\u001b[0m \u001b[38;5;28mself\u001b[39m\u001b[38;5;241m.\u001b[39m_process_unit_info(\n\u001b[0;32m   2978\u001b[0m     [(\u001b[38;5;124m\"\u001b[39m\u001b[38;5;124mx\u001b[39m\u001b[38;5;124m\"\u001b[39m, xdata), (\u001b[38;5;124m\"\u001b[39m\u001b[38;5;124my\u001b[39m\u001b[38;5;124m\"\u001b[39m, ydata)], kwargs, convert\u001b[38;5;241m=\u001b[39m\u001b[38;5;28;01mFalse\u001b[39;00m)\n\u001b[0;32m   2980\u001b[0m vertices \u001b[38;5;241m=\u001b[39m []\n\u001b[1;32m-> 2981\u001b[0m y0, dy \u001b[38;5;241m=\u001b[39m yrange\n\u001b[0;32m   2982\u001b[0m y0, y1 \u001b[38;5;241m=\u001b[39m \u001b[38;5;28mself\u001b[39m\u001b[38;5;241m.\u001b[39mconvert_yunits((y0, y0 \u001b[38;5;241m+\u001b[39m dy))\n\u001b[0;32m   2983\u001b[0m \u001b[38;5;28;01mfor\u001b[39;00m xr \u001b[38;5;129;01min\u001b[39;00m xranges:  \u001b[38;5;66;03m# convert the absolute values, not the x and dx\u001b[39;00m\n",
      "\u001b[1;31mValueError\u001b[0m: too many values to unpack (expected 2)"
     ]
    },
    {
     "data": {
      "image/png": "[encoded data removed]",
      "text/plain": [
       "<Figure size 1000x600 with 1 Axes>"
      ]
     },
     "metadata": {},
     "output_type": "display_data"
    }
   ],
   "source": [
    "# popularity of each album\n",
    "album_popularity = df.groupby('Album')['Popularity'].mean().sort_values()\n",
    "\n",
    "# Create a horizontal bar chart\n",
    "plt.figure(figsize=(10, 6))\n",
    "plt.broken_barh(album_popularity.index, album_popularity.values, color='yellow')\n",
    "\n",
    "# Set chart title and labels\n",
    "plt.title('Popularity of AC/DC Albums')\n",
    "plt.xlabel('Average Popularity')\n",
    "plt.ylabel('Album')\n",
    "\n",
    "# Display the plot\n",
    "plt.show()"
   ]
  },
  {
   "cell_type": "markdown",
   "metadata": {},
   "source": [
    "### This is just a sample of the data analysis you can do with a good dataset. \n",
    "### My findings are that the group AC\\DC have had some good albums  and some not so good albums in their carreer"
   ]
  }
 ],
 "metadata": {
  "kernelspec": {
   "display_name": "Python 3",
   "language": "python",
   "name": "python3"
  },
  "language_info": {
   "codemirror_mode": {
    "name": "ipython",
    "version": 3
   },
   "file_extension": ".py",
   "mimetype": "text/x-python",
   "name": "python",
   "nbconvert_exporter": "python",
   "pygments_lexer": "ipython3",
   "version": "3.12.4"
  }
 },
 "nbformat": 4,
 "nbformat_minor": 2
}
